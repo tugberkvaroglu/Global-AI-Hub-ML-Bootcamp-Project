{
 "cells": [
  {
   "cell_type": "markdown",
   "metadata": {},
   "source": [
    "Verinin anlatılması, açıklanması.\n",
    "\n",
    "Kullandığım veri seti Online Payments Fraud Detection Dataseti. Veri seti yapılan para işlemlerinden hangisinin dolandırıcılık işlemi olup olmadığını gösteren bir veri seti.  \n",
    "\n",
    "Veri setindeki özellikler:\n",
    "\n",
    "    1- step: işlem süresini saat cinsinden ifade eder.\n",
    "    2- type: online işlemin tipi.\n",
    "    3- amount: işlemin miktarı.\n",
    "    4- nameOrig: işlemi başlatan müşterinin adı.\n",
    "    5- oldbalanceOrg: işlem öncesi hesap bakiyesi.\n",
    "    6- newbalanceOrig: işlem sonrası hesap bakiyesi.\n",
    "    7- nameDest: işlemi alan hesabın adı.\n",
    "    8- oldbalanceDest: işlemin ulaştığı hesabın işlem öncesi bakiyesi.\n",
    "    9- newbalanceDest: işlemin ulaştığı hesabın işlem sonrası bakiyesi.\n",
    "    10- isFraud: dolandırıcılık işlemi olup olmadığı.\n",
    "\n",
    "Bu veri setindeki asıl amaç 1 den 9 a kadar verilen özellikler ile yapılan işlemin dolandırıcılık işlemi olup olmadığının tahminlenmesi."
   ]
  },
  {
   "cell_type": "code",
   "execution_count": null,
   "metadata": {},
   "outputs": [],
   "source": [
    "#EDA - Keşifsel Veri Analizi"
   ]
  },
  {
   "cell_type": "markdown",
   "metadata": {},
   "source": [
    "Veriden elde edilen sonuçların eklenmesi, değerlendirilmesi."
   ]
  },
  {
   "cell_type": "code",
   "execution_count": null,
   "metadata": {},
   "outputs": [],
   "source": [
    "#Data Preprocessing- Veri Ön İşleme"
   ]
  },
  {
   "cell_type": "markdown",
   "metadata": {},
   "source": [
    "Data üzerinde neler yapıldı, neden yapıldı açıklanması."
   ]
  },
  {
   "cell_type": "code",
   "execution_count": null,
   "metadata": {},
   "outputs": [],
   "source": [
    "#Algoritma seçimi ve Hiperparametre Optimizasyonu"
   ]
  },
  {
   "cell_type": "markdown",
   "metadata": {},
   "source": [
    "Hangi algoritma neden seçildi, seçilen 2 algoritmadan hangisi nasıl sonuç çıkardı neden iyi/kötü sonuç çıkardı."
   ]
  },
  {
   "cell_type": "code",
   "execution_count": null,
   "metadata": {},
   "outputs": [],
   "source": [
    "#Model Evaluation"
   ]
  },
  {
   "cell_type": "markdown",
   "metadata": {},
   "source": [
    "Model üzerinde değerlendirme algoritmaları kullanarak sonuçların karşılaştırılması."
   ]
  }
 ],
 "metadata": {
  "language_info": {
   "name": "python"
  }
 },
 "nbformat": 4,
 "nbformat_minor": 2
}
